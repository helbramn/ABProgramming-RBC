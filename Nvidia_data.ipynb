{
  "nbformat": 4,
  "nbformat_minor": 0,
  "metadata": {
    "colab": {
      "provenance": [],
      "toc_visible": true,
      "authorship_tag": "ABX9TyNhORW8qz4QbxGvyInoHcR/",
      "include_colab_link": true
    },
    "kernelspec": {
      "name": "python3",
      "display_name": "Python 3"
    },
    "language_info": {
      "name": "python"
    }
  },
  "cells": [
    {
      "cell_type": "markdown",
      "metadata": {
        "id": "view-in-github",
        "colab_type": "text"
      },
      "source": [
        "<a href=\"https://colab.research.google.com/github/helbramn/ABProgramming-RBC/blob/master/Nvidia_data.ipynb\" target=\"_parent\"><img src=\"https://colab.research.google.com/assets/colab-badge.svg\" alt=\"Open In Colab\"/></a>"
      ]
    },
    {
      "cell_type": "code",
      "source": [
        "# Cargar bibliotecas\n",
        "import pandas as pd\n",
        "import matplotlib.pyplot as plt\n",
        "from sklearn.model_selection import train_test_split\n",
        "from sklearn.linear_model import LinearRegression\n",
        "from sklearn.metrics import mean_squared_error, r2_score\n",
        "\n",
        "# Cargar el archivo CSV\n",
        "file_path = \"/content/NVIDIA_datos.csv\"\n",
        "data = pd.read_csv(file_path, encoding=\"latin-1\")\n",
        "\n",
        "\n",
        "# Revisar las primeras filas\n",
        "print(data.head())\n",
        "\n",
        "# Información general del dataset\n",
        "print(data.info())\n",
        "\n",
        "# Resumen estadístico\n",
        "print(data.describe())\n"
      ],
      "metadata": {
        "colab": {
          "base_uri": "https://localhost:8080/"
        },
        "id": "uIrNPP1VW-sy",
        "outputId": "2d44b819-b038-44b6-d985-208ab2acca99"
      },
      "execution_count": null,
      "outputs": [
        {
          "output_type": "stream",
          "name": "stdout",
          "text": [
            "  Trimestre          Producto         Region Cliente Principal  \\\n",
            "0   Q1 2024  GPUs Data Center        America            Amazon   \n",
            "1   Q1 2024       Gaming GPUs  Asia-Pacifico           Alibaba   \n",
            "2   Q2 2024   GPUs Automotive         Europa               BMW   \n",
            "3   Q3 2024  GPUs Data Center  Asia-Pacifico         Microsoft   \n",
            "4   Q4 2024       Gaming GPUs        America          Best Buy   \n",
            "\n",
            "  Segmento de Cliente  Ingresos (USD)  Cantidad Vendida  \\\n",
            "0             Empresa           12500              1000   \n",
            "1           Minorista            8300              1200   \n",
            "2             Empresa            2000               150   \n",
            "3             Empresa           14200              1100   \n",
            "4           Minorista            9100              1300   \n",
            "\n",
            "   Precio Promedio (USD)  Gastos de Marketing (USD)  Crecimiento (%)  \\\n",
            "0                  12.50                       2500               25   \n",
            "1                   6.92                       1800               15   \n",
            "2                  13.33                        400               10   \n",
            "3                  12.91                       3000               30   \n",
            "4                   7.00                       2200               12   \n",
            "\n",
            "   Satisfaccion del Cliente Tendencia del Mercado  \n",
            "0                         5                  Alta  \n",
            "1                         4                 Media  \n",
            "2                         3                  Baja  \n",
            "3                         5                  Alta  \n",
            "4                         4                 Media  \n",
            "<class 'pandas.core.frame.DataFrame'>\n",
            "RangeIndex: 220 entries, 0 to 219\n",
            "Data columns (total 12 columns):\n",
            " #   Column                     Non-Null Count  Dtype  \n",
            "---  ------                     --------------  -----  \n",
            " 0   Trimestre                  220 non-null    object \n",
            " 1   Producto                   220 non-null    object \n",
            " 2   Region                     220 non-null    object \n",
            " 3   Cliente Principal          220 non-null    object \n",
            " 4   Segmento de Cliente        220 non-null    object \n",
            " 5   Ingresos (USD)             220 non-null    int64  \n",
            " 6   Cantidad Vendida           220 non-null    int64  \n",
            " 7   Precio Promedio (USD)      220 non-null    float64\n",
            " 8   Gastos de Marketing (USD)  220 non-null    int64  \n",
            " 9   Crecimiento (%)            220 non-null    int64  \n",
            " 10  Satisfaccion del Cliente   220 non-null    int64  \n",
            " 11  Tendencia del Mercado      220 non-null    object \n",
            "dtypes: float64(1), int64(5), object(6)\n",
            "memory usage: 20.8+ KB\n",
            "None\n",
            "       Ingresos (USD)  Cantidad Vendida  Precio Promedio (USD)  \\\n",
            "count      220.000000         220.00000             220.000000   \n",
            "mean      9370.000000         904.00000              11.273000   \n",
            "std       5478.551787         497.19983               2.889851   \n",
            "min       2000.000000         150.00000               6.790000   \n",
            "25%       2500.000000         180.00000               7.000000   \n",
            "50%       9300.000000        1150.00000              12.855000   \n",
            "75%      14200.000000        1300.00000              13.330000   \n",
            "max      17500.000000        1400.00000              13.890000   \n",
            "\n",
            "       Gastos de Marketing (USD)  Crecimiento (%)  Satisfaccion del Cliente  \n",
            "count                 220.000000         220.0000                220.000000  \n",
            "mean                 1945.000000          17.0000                  4.100000  \n",
            "std                  1107.610658           8.3014                  0.832557  \n",
            "min                   400.000000           5.0000                  3.000000  \n",
            "25%                   500.000000          10.0000                  3.000000  \n",
            "50%                  2050.000000          15.0000                  4.000000  \n",
            "75%                  3000.000000          25.0000                  5.000000  \n",
            "max                  3500.000000          30.0000                  5.000000  \n"
          ]
        }
      ]
    },
    {
      "cell_type": "code",
      "source": [
        "data['Ingresos (USD)'] = data['Ingresos (USD)'].astype(float)\n",
        "data['Cantidad Vendida'] = data['Cantidad Vendida'].astype(int)\n",
        "data['Precio Promedio (USD)'] = data['Precio Promedio (USD)'].astype(float)\n",
        "data['Gastos de Marketing (USD)'] = data['Gastos de Marketing (USD)'].astype(float)\n",
        "data['Crecimiento (%)'] = data['Crecimiento (%)'].astype(float)\n",
        "\n",
        "data_encoded = pd.get_dummies(data, columns=['Producto', 'Region', 'Tendencia del Mercado'], drop_first=True)\n",
        "\n",
        "X = data_encoded.drop(['Ingresos (USD)', 'Trimestre', 'Cliente Principal'], axis=1)\n",
        "Y = data_encoded['Ingresos (USD)']\n",
        "\n",
        "from sklearn.model_selection import train_test_split\n",
        "X_train, X_test, Y_train, Y_test = train_test_split(X, Y, test_size=0.3, random_state=42)\n",
        "\n",
        "print(f\"Datos de entrenamiento: {X_train.shape}\")\n",
        "print(f\"Datos de prueba: {X_test.shape}\")\n"
      ],
      "metadata": {
        "colab": {
          "base_uri": "https://localhost:8080/"
        },
        "id": "joxC2qDqZu-F",
        "outputId": "3ffc4760-116a-43e2-9ab0-75fce6109977"
      },
      "execution_count": null,
      "outputs": [
        {
          "output_type": "stream",
          "name": "stdout",
          "text": [
            "Datos de entrenamiento: (154, 13)\n",
            "Datos de prueba: (66, 13)\n"
          ]
        }
      ]
    },
    {
      "cell_type": "code",
      "source": [
        "# Convertir variables categóricas en columnas numéricas (One-Hot Encoding)\n",
        "data_encoded = pd.get_dummies(data, columns=['Producto', 'Region', 'Tendencia del Mercado'], drop_first=True)\n",
        "\n",
        "# Confirmar las nuevas columnas\n",
        "print(data_encoded.head())\n"
      ],
      "metadata": {
        "colab": {
          "base_uri": "https://localhost:8080/"
        },
        "collapsed": true,
        "id": "ZOD3QxaPgdXl",
        "outputId": "a0e3ef7d-1e39-406e-dd81-484a4d132363"
      },
      "execution_count": null,
      "outputs": [
        {
          "output_type": "stream",
          "name": "stdout",
          "text": [
            "  Trimestre Cliente Principal Segmento de Cliente  Ingresos (USD)  \\\n",
            "0   Q1 2024            Amazon             Empresa         12500.0   \n",
            "1   Q1 2024           Alibaba           Minorista          8300.0   \n",
            "2   Q2 2024               BMW             Empresa          2000.0   \n",
            "3   Q3 2024         Microsoft             Empresa         14200.0   \n",
            "4   Q4 2024          Best Buy           Minorista          9100.0   \n",
            "\n",
            "   Cantidad Vendida  Precio Promedio (USD)  Gastos de Marketing (USD)  \\\n",
            "0              1000                  12.50                     2500.0   \n",
            "1              1200                   6.92                     1800.0   \n",
            "2               150                  13.33                      400.0   \n",
            "3              1100                  12.91                     3000.0   \n",
            "4              1300                   7.00                     2200.0   \n",
            "\n",
            "   Crecimiento (%)  Satisfaccion del Cliente  Producto_GPUs Data Center  \\\n",
            "0             25.0                         5                       True   \n",
            "1             15.0                         4                      False   \n",
            "2             10.0                         3                      False   \n",
            "3             30.0                         5                       True   \n",
            "4             12.0                         4                      False   \n",
            "\n",
            "   Producto_Gaming GPUs  Region_Asia-Pacifico  Region_Asia-Paci­fico  \\\n",
            "0                 False                 False                  False   \n",
            "1                  True                  True                  False   \n",
            "2                 False                 False                  False   \n",
            "3                 False                  True                  False   \n",
            "4                  True                 False                  False   \n",
            "\n",
            "   Region_Europa  Tendencia del Mercado_Baja  Tendencia del Mercado_Media  \n",
            "0          False                       False                        False  \n",
            "1          False                       False                         True  \n",
            "2           True                        True                        False  \n",
            "3          False                       False                        False  \n",
            "4          False                       False                         True  \n"
          ]
        }
      ]
    },
    {
      "cell_type": "code",
      "source": [
        "from sklearn.model_selection import train_test_split\n",
        "\n",
        "# Separar variables independientes (X) y dependiente (Y)\n",
        "X = data_encoded.drop(['Ingresos (USD)', 'Trimestre', 'Cliente Principal'], axis=1)  # Quitamos columnas irrelevantes\n",
        "Y = data_encoded['Ingresos (USD)']\n",
        "\n",
        "# Dividir en datos de entrenamiento (70%) y prueba (30%)\n",
        "X_train, X_test, Y_train, Y_test = train_test_split(X, Y, test_size=0.3, random_state=42)\n",
        "\n",
        "print(f\"Datos de entrenamiento: {X_train.shape}\")\n",
        "print(f\"Datos de prueba: {X_test.shape}\")\n"
      ],
      "metadata": {
        "colab": {
          "base_uri": "https://localhost:8080/"
        },
        "id": "_ZtkY5gegge1",
        "outputId": "23c0976e-8ad0-48f7-d5a1-fd010270c7b6"
      },
      "execution_count": null,
      "outputs": [
        {
          "output_type": "stream",
          "name": "stdout",
          "text": [
            "Datos de entrenamiento: (154, 13)\n",
            "Datos de prueba: (66, 13)\n"
          ]
        }
      ]
    },
    {
      "cell_type": "code",
      "source": [
        "# Verificar los tipos de datos de las variables independientes\n",
        "print(X_train.dtypes)\n"
      ],
      "metadata": {
        "colab": {
          "base_uri": "https://localhost:8080/"
        },
        "id": "XvQ6zImChemS",
        "outputId": "d54b85b0-ad05-4cdb-f48d-de1e5f98f71d"
      },
      "execution_count": null,
      "outputs": [
        {
          "output_type": "stream",
          "name": "stdout",
          "text": [
            "Segmento de Cliente             object\n",
            "Cantidad Vendida                 int64\n",
            "Precio Promedio (USD)          float64\n",
            "Gastos de Marketing (USD)      float64\n",
            "Crecimiento (%)                float64\n",
            "Satisfaccion del Cliente         int64\n",
            "Producto_GPUs Data Center         bool\n",
            "Producto_Gaming GPUs              bool\n",
            "Region_Asia-Pacifico              bool\n",
            "Region_Asia-Paci­fico             bool\n",
            "Region_Europa                     bool\n",
            "Tendencia del Mercado_Baja        bool\n",
            "Tendencia del Mercado_Media       bool\n",
            "dtype: object\n"
          ]
        }
      ]
    },
    {
      "cell_type": "code",
      "source": [
        "# Aplicar One-Hot Encoding a todas las columnas categóricas\n",
        "X_encoded = pd.get_dummies(X, drop_first=True)\n",
        "\n",
        "# Verificar que se ha hecho correctamente\n",
        "print(X_encoded.head())\n"
      ],
      "metadata": {
        "colab": {
          "base_uri": "https://localhost:8080/"
        },
        "id": "ZB-nQADjhveL",
        "outputId": "ea070ff8-2135-4aa3-bf3e-7b5ca43d9b6a"
      },
      "execution_count": null,
      "outputs": [
        {
          "output_type": "stream",
          "name": "stdout",
          "text": [
            "   Cantidad Vendida  Precio Promedio (USD)  Gastos de Marketing (USD)  \\\n",
            "0              1000                  12.50                     2500.0   \n",
            "1              1200                   6.92                     1800.0   \n",
            "2               150                  13.33                      400.0   \n",
            "3              1100                  12.91                     3000.0   \n",
            "4              1300                   7.00                     2200.0   \n",
            "\n",
            "   Crecimiento (%)  Satisfaccion del Cliente  Producto_GPUs Data Center  \\\n",
            "0             25.0                         5                       True   \n",
            "1             15.0                         4                      False   \n",
            "2             10.0                         3                      False   \n",
            "3             30.0                         5                       True   \n",
            "4             12.0                         4                      False   \n",
            "\n",
            "   Producto_Gaming GPUs  Region_Asia-Pacifico  Region_Asia-Paci­fico  \\\n",
            "0                 False                 False                  False   \n",
            "1                  True                  True                  False   \n",
            "2                 False                 False                  False   \n",
            "3                 False                  True                  False   \n",
            "4                  True                 False                  False   \n",
            "\n",
            "   Region_Europa  Tendencia del Mercado_Baja  Tendencia del Mercado_Media  \\\n",
            "0          False                       False                        False   \n",
            "1          False                       False                         True   \n",
            "2           True                        True                        False   \n",
            "3          False                       False                        False   \n",
            "4          False                       False                         True   \n",
            "\n",
            "   Segmento de Cliente_Minorista  \n",
            "0                          False  \n",
            "1                           True  \n",
            "2                          False  \n",
            "3                          False  \n",
            "4                           True  \n"
          ]
        }
      ]
    },
    {
      "cell_type": "code",
      "source": [
        "from sklearn.model_selection import train_test_split\n",
        "from sklearn.linear_model import LinearRegression\n",
        "\n",
        "# Dividir los datos en entrenamiento y prueba\n",
        "X_train, X_test, Y_train, Y_test = train_test_split(X_encoded, Y, test_size=0.3, random_state=42)\n",
        "\n",
        "# Crear y entrenar el modelo\n",
        "modelo = LinearRegression()\n",
        "modelo.fit(X_train, Y_train)\n",
        "\n",
        "# Evaluar el modelo\n",
        "Y_pred = modelo.predict(X_test)\n",
        "\n",
        "# Mostrar los coeficientes y el rendimiento del modelo\n",
        "print(\"Coeficientes:\", modelo.coef_)\n",
        "print(\"Intercepto:\", modelo.intercept_)\n",
        "print(\"R²:\", r2_score(Y_test, Y_pred))\n",
        "print(\"RMSE:\", mean_squared_error(Y_test, Y_pred, squared=False))\n"
      ],
      "metadata": {
        "colab": {
          "base_uri": "https://localhost:8080/"
        },
        "id": "ePhNVTullGfI",
        "outputId": "e944dc8c-9424-4377-d20a-72fb490c7523"
      },
      "execution_count": null,
      "outputs": [
        {
          "output_type": "stream",
          "name": "stdout",
          "text": [
            "Coeficientes: [ 1.78177201e+01 -6.19387289e+01 -7.13135018e-01 -9.09076097e+01\n",
            "  4.88118114e+01  1.86180995e+03 -3.67480809e+03  8.39662869e+02\n",
            " -2.53461093e+03  1.81299814e+03  1.81299814e+03 -3.67480809e+03\n",
            " -1.14019715e+03]\n",
            "Intercepto: -2616.693594889597\n",
            "R²: 0.9995141416503732\n",
            "RMSE: 120.3405593326075\n"
          ]
        },
        {
          "output_type": "stream",
          "name": "stderr",
          "text": [
            "/usr/local/lib/python3.10/dist-packages/sklearn/metrics/_regression.py:492: FutureWarning: 'squared' is deprecated in version 1.4 and will be removed in 1.6. To calculate the root mean squared error, use the function'root_mean_squared_error'.\n",
            "  warnings.warn(\n"
          ]
        }
      ]
    },
    {
      "cell_type": "code",
      "source": [
        "from sklearn.linear_model import LinearRegression\n",
        "\n",
        "# Crear el modelo\n",
        "modelo = LinearRegression()\n",
        "\n",
        "# Entrenar el modelo\n",
        "modelo.fit(X_train, Y_train)\n",
        "\n",
        "# Mostrar los coeficientes del modelo\n",
        "print(\"Coeficientes del modelo:\", modelo.coef_)\n",
        "print(\"Intercepto:\", modelo.intercept_)\n"
      ],
      "metadata": {
        "colab": {
          "base_uri": "https://localhost:8080/"
        },
        "id": "lAMar6RLgsp2",
        "outputId": "9ace8637-5557-44f0-dfd4-ab6d24fb60eb"
      },
      "execution_count": null,
      "outputs": [
        {
          "output_type": "stream",
          "name": "stdout",
          "text": [
            "Coeficientes del modelo: [ 1.78177201e+01 -6.19387289e+01 -7.13135018e-01 -9.09076097e+01\n",
            "  4.88118114e+01  1.86180995e+03 -3.67480809e+03  8.39662869e+02\n",
            " -2.53461093e+03  1.81299814e+03  1.81299814e+03 -3.67480809e+03\n",
            " -1.14019715e+03]\n",
            "Intercepto: -2616.693594889597\n"
          ]
        }
      ]
    },
    {
      "cell_type": "code",
      "source": [
        "import matplotlib.pyplot as plt\n",
        "\n",
        "# Graficar los ingresos reales vs los predichos\n",
        "plt.figure(figsize=(8, 6))\n",
        "plt.scatter(Y_test, Y_pred, color='blue', label='Predicciones vs Reales')\n",
        "plt.plot([min(Y_test), max(Y_test)], [min(Y_test), max(Y_test)], color='red', label='Línea de referencia')\n",
        "plt.xlabel('Ingresos Reales (USD)')\n",
        "plt.ylabel('Ingresos Predichos (USD)')\n",
        "plt.title('Ingresos Reales vs Predichos')\n",
        "plt.legend()\n",
        "plt.show()\n"
      ],
      "metadata": {
        "colab": {
          "base_uri": "https://localhost:8080/",
          "height": 562
        },
        "id": "tPzpT346vI62",
        "outputId": "0dd94001-b3b6-4ce6-8a30-b95bebeca010"
      },
      "execution_count": null,
      "outputs": [
        {
          "output_type": "display_data",
          "data": {
            "text/plain": [
              "<Figure size 800x600 with 1 Axes>"
            ],
            "image/png": "[encoded data removed]"
          },
          "metadata": {}
        }
      ]
    },
    {
      "source": [
        "import matplotlib.pyplot as plt\n",
        "import numpy as np\n",
        "\n",
        "# Datos para el gráfico de barras\n",
        "indices = np.arange(len(Y_test))  # Índices para las barras\n",
        "ancho_barra = 0.35  # Ancho de cada barra\n",
        "\n",
        "# Crear el gráfico de barras\n",
        "plt.figure(figsize=(10, 6))  # Ajusta el tamaño del gráfico si es necesario\n",
        "plt.bar(indices, Y_test, ancho_barra, label='Ingresos Reales', color='blue')\n",
        "plt.bar(indices + ancho_barra, Y_pred, ancho_barra, label='Ingresos Predichos', color='green')\n",
        "\n",
        "# Configurar el gráfico\n",
        "plt.xlabel('Muestras')\n",
        "plt.ylabel('Ingresos (USD)')\n",
        "plt.title('Comparación de Ingresos Reales vs. Predichos')\n",
        "plt.xticks(indices + ancho_barra / 2, indices)  # Ajusta las etiquetas del eje x\n",
        "plt.legend()  # Muestra la leyenda\n",
        "plt.tight_layout()  # Ajusta el espaciado del gráfico\n",
        "plt.show()"
      ],
      "cell_type": "code",
      "metadata": {
        "colab": {
          "base_uri": "https://localhost:8080/",
          "height": 448
        },
        "id": "OqS_SEfbx2K2",
        "outputId": "a2b76734-a298-446b-e145-74c43465063b"
      },
      "execution_count": null,
      "outputs": [
        {
          "output_type": "display_data",
          "data": {
            "text/plain": [
              "<Figure size 1000x600 with 1 Axes>"
            ],
            "image/png": "[encoded data removed]"
          },
          "metadata": {}
        }
      ]
    },
    {
      "cell_type": "code",
      "source": [
        "import pandas as pd\n",
        "\n",
        "# Cargar el archivo CSV\n",
        "file_path = \"/content/NVIDIA_datos.csv\"\n",
        "data = pd.read_csv(file_path, encoding='latin-1')\n",
        "\n",
        "# Limpiar los datos (eliminar filas con encabezados duplicados)\n",
        "data_cleaned = data[data['Trimestre'] != 'Trimestre']\n",
        "\n",
        "# Convertir las columnas a su tipo adecuado\n",
        "data_cleaned['Ingresos (USD)'] = data_cleaned['Ingresos (USD)'].str.replace(r\"[^\\d.]\", \"\", regex=True).astype(float)\n",
        "data_cleaned['Cantidad Vendida'] = data_cleaned['Cantidad Vendida'].astype(int)\n",
        "data_cleaned['Precio Promedio (USD)'] = data_cleaned['Precio Promedio (USD)'].astype(float)\n",
        "data_cleaned['Gastos de Marketing (USD)'] = data_cleaned['Gastos de Marketing (USD)'].astype(float)\n",
        "data_cleaned['Crecimiento (%)'] = data_cleaned['Crecimiento (%)'].astype(float)\n",
        "\n",
        "# Aplicar One-Hot Encoding a las variables categóricas\n",
        "data_encoded = pd.get_dummies(data_cleaned, columns=['Producto', 'Region', 'Tendencia del Mercado'], drop_first=True)\n",
        "\n",
        "# Separar X (variables independientes) y Y (variable dependiente)\n",
        "X = data_encoded.drop(['Ingresos (USD)', 'Trimestre', 'Cliente Principal'], axis=1)\n",
        "Y = data_encoded['Ingresos (USD)']\n",
        "\n",
        "# Dividir en entrenamiento y prueba\n",
        "from sklearn.model_selection import train_test_split\n",
        "X_train, X_test, Y_train, Y_test = train_test_split(X, Y, test_size=0.3, random_state=42)\n"
      ],
      "metadata": {
        "id": "iX2-iXSS228w"
      },
      "execution_count": null,
      "outputs": []
    },
    {
      "cell_type": "code",
      "source": [
        "from google.colab import auth\n",
        "auth.authenticate_user()\n"
      ],
      "metadata": {
        "id": "-4n-k5nmDIRQ"
      },
      "execution_count": null,
      "outputs": []
    },
    {
      "cell_type": "code",
      "source": [
        "!apt-get install git\n"
      ],
      "metadata": {
        "colab": {
          "base_uri": "https://localhost:8080/"
        },
        "id": "fdrv9m7mDVIq",
        "outputId": "8d670c00-1cdd-4210-dfaa-ac5749fc034e"
      },
      "execution_count": null,
      "outputs": [
        {
          "output_type": "stream",
          "name": "stdout",
          "text": [
            "Reading package lists... Done\n",
            "Building dependency tree... Done\n",
            "Reading state information... Done\n",
            "git is already the newest version (1:2.34.1-1ubuntu1.11).\n",
            "0 upgraded, 0 newly installed, 0 to remove and 49 not upgraded.\n"
          ]
        }
      ]
    },
    {
      "cell_type": "code",
      "source": [
        "!git config --global user.name \"helbramn\"\n",
        "!git config --global user.email \"barabasrori@gmail.com\"\n"
      ],
      "metadata": {
        "id": "qoCbBXlwDdGX"
      },
      "execution_count": null,
      "outputs": []
    },
    {
      "cell_type": "code",
      "source": [
        "!git clone https://github.com/helbramn/NVIDIA_PrediccionDatos.git"
      ],
      "metadata": {
        "colab": {
          "base_uri": "https://localhost:8080/"
        },
        "id": "A5DeaqypDoyO",
        "outputId": "5c47745b-7169-49e2-8719-62330370f739"
      },
      "execution_count": null,
      "outputs": [
        {
          "output_type": "stream",
          "name": "stdout",
          "text": [
            "Cloning into 'NVIDIA_PrediccionDatos'...\n",
            "warning: You appear to have cloned an empty repository.\n"
          ]
        }
      ]
    },
    {
      "cell_type": "code",
      "source": [
        "!mv /content/NVIDIA_datos.csv /content/NVIDIA_PrediccionDatos/"
      ],
      "metadata": {
        "id": "JqTmTT7QENGO"
      },
      "execution_count": null,
      "outputs": []
    },
    {
      "cell_type": "code",
      "source": [
        "%cd /content/NVIDIA_PrediccionDatos/"
      ],
      "metadata": {
        "colab": {
          "base_uri": "https://localhost:8080/"
        },
        "id": "FHHZSJtuEZ_4",
        "outputId": "0ab3bee8-3bd4-402d-c386-6e16d648def4"
      },
      "execution_count": null,
      "outputs": [
        {
          "output_type": "stream",
          "name": "stdout",
          "text": [
            "/content/NVIDIA_PrediccionDatos\n"
          ]
        }
      ]
    },
    {
      "cell_type": "code",
      "source": [
        "# Agregar los archivos\n",
        "!git add .\n",
        "\n",
        "# Hacer commit con un mensaje\n",
        "!git commit -m \"Subiendo trabajo final de predicción de ingresos de NVIDIA\"\n",
        "\n",
        "# Subir los archivos al repositorio\n",
        "!git push origin master"
      ],
      "metadata": {
        "id": "9flVA7PYEgQa",
        "outputId": "04e335a1-9c04-47c2-efa4-cf4866f52e04",
        "colab": {
          "base_uri": "https://localhost:8080/"
        }
      },
      "execution_count": null,
      "outputs": [
        {
          "output_type": "stream",
          "name": "stdout",
          "text": [
            "[main (root-commit) 57e4583] Subiendo trabajo final de predicción de ingresos de NVIDIA\n",
            " 1 file changed, 221 insertions(+)\n",
            " create mode 100644 NVIDIA_datos.csv\n",
            "error: src refspec master does not match any\n",
            "\u001b[31merror: failed to push some refs to 'https://github.com/helbramn/NVIDIA_PrediccionDatos.git'\n",
            "\u001b[m"
          ]
        }
      ]
    },
    {
      "cell_type": "markdown",
      "source": [],
      "metadata": {
        "id": "E7N1Lid0vMgU"
      }
    }
  ]
}